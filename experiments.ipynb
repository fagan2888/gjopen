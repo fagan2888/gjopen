{
 "cells": [
  {
   "cell_type": "code",
   "execution_count": null,
   "metadata": {},
   "outputs": [],
   "source": [
    "# Third-party imports\n",
    "%matplotlib inline\n",
    "import mxnet as mx\n",
    "from mxnet import gluon\n",
    "import numpy as np\n",
    "import pandas as pd\n",
    "import matplotlib.pyplot as plt\n",
    "import json\n",
    "pd.plotting.register_matplotlib_converters()"
   ]
  },
  {
   "cell_type": "markdown",
   "metadata": {},
   "source": [
    "# Download and read data"
   ]
  },
  {
   "cell_type": "code",
   "execution_count": null,
   "metadata": {},
   "outputs": [],
   "source": [
    "from gjopen.utilities import df_tools, read_files \n",
    "df = read_files.download_and_read_noaa_txt(\"ftp://aftp.cmdl.noaa.gov/products/trends/co2/co2_trend_gl.txt\")\n",
    "df_datetime_indexed = df_tools.set_noaa_datetime_index(df)"
   ]
  },
  {
   "cell_type": "code",
   "execution_count": null,
   "metadata": {},
   "outputs": [],
   "source": [
    "# for i in range(365):\n",
    "#     data_all = df_tools.add_a_day(data_all)"
   ]
  },
  {
   "cell_type": "code",
   "execution_count": null,
   "metadata": {},
   "outputs": [],
   "source": [
    "df_datetime_indexed"
   ]
  },
  {
   "cell_type": "code",
   "execution_count": null,
   "metadata": {},
   "outputs": [],
   "source": [
    "from statsmodels.tsa.holtwinters import ExponentialSmoothing\n",
    "\n",
    "def estimate_holt_winters(data, freq, data_length_in_plot=0, prediction_length=12, \n",
    "                          y_label=\"Y\", prediction_intervals=None, target_date=None):\n",
    "    \"\"\"\n",
    "    Prediction made with Holt winters, aka ETS triple \n",
    "    param data: pandas Series with datetime indexing\n",
    "    \"\"\"\n",
    "    model = ExponentialSmoothing(data, trend='mul', seasonal='add', damped=False)\n",
    "\n",
    "    model_fit = model.fit()\n",
    "\n",
    "    # ~~~\n",
    "    # Predict\n",
    "    # ~~~\n",
    "\n",
    "    pred_ets = model_fit.forecast(prediction_length)\n",
    "    print(pred_ets)\n",
    "\n",
    "    ax = data[-data_length_in_plot:].plot(label='observed', figsize=(14, 7))\n",
    "    pred_ets.plot(ax=ax, label='Forecast')\n",
    "    ax.set_xlabel('Date')\n",
    "    ax.set_ylabel(y_label)\n",
    "    plt.legend()\n",
    "    plt.show()\n",
    "    "
   ]
  },
  {
   "cell_type": "code",
   "execution_count": null,
   "metadata": {},
   "outputs": [],
   "source": [
    "from gluonts.model.prophet import ProphetPredictor\n",
    "from gluonts.dataset.util import to_pandas\n",
    "\n",
    "def estimate_prophet(data, freq, data_length_in_plot=0, prediction_length=12, \n",
    "                     y_label=\"Y\", prediction_intervals=[90.0, 100.0], target_date=None):\n",
    "    \"\"\"\n",
    "    TODO: prophet_params [dict], init_model [func]\n",
    "    \"\"\"\n",
    "    prophet_predictor = ProphetPredictor(\n",
    "        freq=freq, \n",
    "        prediction_length=prediction_length, \n",
    "    )\n",
    "    legend = [\"observations\", \"median prediction\"] + [f\"{k}% prediction interval\" for k in prediction_intervals][::-1]\n",
    "\n",
    "    for test_entry, forecast in zip(data, prophet_predictor.predict(data)):\n",
    "        to_pandas(test_entry)[-data_length_in_plot:].plot(linewidth=2)\n",
    "        forecast.plot(color='g', prediction_intervals=prediction_intervals)\n",
    "        if target_date is not None:\n",
    "            print(forecast.index)\n",
    "            print(forecast.samples.shape)#[target_date]\n",
    "    ax.set_xlabel('Date')\n",
    "    ax.set_ylabel(y_label)\n",
    "    plt.legend(legend, loc=\"best\")\n",
    "    plt.grid(which='both')"
   ]
  },
  {
   "cell_type": "code",
   "execution_count": null,
   "metadata": {},
   "outputs": [],
   "source": [
    "def predict(data, freq, predict_func, use_gluonts=False, series_key=None,\n",
    "            data_length_in_plot=0, prediction_length=12, y_label=\"Y\",\n",
    "            prediction_intervals=[90, 95, 99], target_date=None):\n",
    "    \"\"\"\n",
    "    TODO: add explanation\n",
    "    \"\"\"\n",
    "    data = data.resample(freq).apply(lambda ser: ser.iloc[-1,])\n",
    "    \n",
    "    if use_gluonts:\n",
    "        # Assume using prophet predictor\n",
    "        data = ListDataset(\n",
    "            [{\"start\": data.index[0], \"target\": data[series_key]}], # TODO: changed from .cycle\n",
    "            freq = freq\n",
    "        )\n",
    "    else: # TODO: if using some other models, work on this\n",
    "        data = data[series_key]\n",
    "    \n",
    "    predict_func(data, freq, data_length_in_plot, prediction_length, y_label, prediction_intervals, target_date)\n",
    "        \n",
    "    \n",
    "predict(\n",
    "    df_datetime_indexed, \n",
    "    \"MS\", \n",
    "    estimate_holt_winters, \n",
    "    series_key=\"cycle\", \n",
    "    data_length_in_plot=24, \n",
    "    prediction_length=24, \n",
    "    y_label=\"CO2\"\n",
    ")"
   ]
  },
  {
   "cell_type": "code",
   "execution_count": null,
   "metadata": {},
   "outputs": [],
   "source": [
    "predict(\n",
    "    df_datetime_indexed, \n",
    "    \"MS\", \n",
    "    estimate_prophet, \n",
    "    use_gluonts=True, \n",
    "    data_length_in_plot=24, \n",
    "    prediction_length=24, \n",
    "    y_label=\"CO2\",\n",
    "    target_date=\"2020-12-01 00:00:00\"\n",
    ")"
   ]
  },
  {
   "cell_type": "code",
   "execution_count": null,
   "metadata": {},
   "outputs": [],
   "source": []
  },
  {
   "cell_type": "markdown",
   "metadata": {},
   "source": [
    "# build dataset"
   ]
  },
  {
   "cell_type": "code",
   "execution_count": null,
   "metadata": {},
   "outputs": [],
   "source": [
    "freq=\"MS\"\n",
    "data = data_all.resample(freq).apply(lambda ser: ser.iloc[-1,])"
   ]
  },
  {
   "cell_type": "code",
   "execution_count": null,
   "metadata": {},
   "outputs": [],
   "source": [
    "# ~~~\n",
    "# \n",
    "# ~~~\n",
    "\n",
    "estimate_holt_winters(data['cycle'], 96, 40, y_label='CO2')"
   ]
  },
  {
   "cell_type": "code",
   "execution_count": null,
   "metadata": {},
   "outputs": [],
   "source": [
    "import mxnet as mx\n",
    "ctx = mx.Context(\"gpu\")\n",
    "mx.context.num_gpus()"
   ]
  },
  {
   "cell_type": "code",
   "execution_count": null,
   "metadata": {},
   "outputs": [],
   "source": [
    "\n",
    "from gluonts.dataset.common import ListDataset\n",
    "training_data = ListDataset(\n",
    "    [{\"start\": data.index[0], \"target\": data.cycle[:\"2019-06-30 00:00:00\"]}], # TODO: index in programatical way\n",
    "    freq = freq\n",
    ")\n",
    "validation_data = ListDataset(\n",
    "    [{\"start\": data.index[0], \"target\": data.cycle[:\"2020-01-30 00:00:00\"]}], # TODO: index in programatical way\n",
    "    freq = freq\n",
    ")\n",
    "test_data = ListDataset(\n",
    "    [{\"start\": data.index[0], \"target\": data.cycle}],\n",
    "    freq = freq\n",
    ")"
   ]
  },
  {
   "cell_type": "code",
   "execution_count": null,
   "metadata": {
    "scrolled": true
   },
   "outputs": [],
   "source": [
    "\n",
    "from gluonts.model.deepar import DeepAREstimator\n",
    "from gluonts.model.deep_factor import DeepFactorEstimator\n",
    "from gluonts.model.npts import NPTSPredictor\n",
    "from gluonts.model.transformer import TransformerEstimator\n",
    "from gluonts.trainer import Trainer\n",
    "\n",
    "estimator = DeepFactorEstimator(\n",
    "#     num_hidden_dimensions=[100],\n",
    "#     context_length=24,\n",
    "    num_hidden_global=10,\n",
    "    num_layers_global=1,\n",
    "    num_factors=5,\n",
    "    num_hidden_local=5,\n",
    "    num_layers_local=1,\n",
    "    embedding_dimension=5,\n",
    "    freq=freq, \n",
    "    prediction_length=24, \n",
    "    trainer=Trainer(\n",
    "        epochs=10, \n",
    "        ctx = ctx,\n",
    "        learning_rate=3e-3, \n",
    "        num_batches_per_epoch=10\n",
    "    ),\n",
    ")\n",
    "predictor = estimator.train(\n",
    "    training_data=training_data,\n",
    "    validation_data=validation_data\n",
    ")\n",
    "\n"
   ]
  },
  {
   "cell_type": "code",
   "execution_count": null,
   "metadata": {},
   "outputs": [],
   "source": [
    "\n",
    "from gluonts.dataset.util import to_pandas\n",
    "\n",
    "for test_entry, forecast in zip(test_data, predictor.predict(test_data)):\n",
    "    to_pandas(test_entry).plot(linewidth=2)\n",
    "    forecast.plot(color='g', prediction_intervals=[50.0, 90.0])\n",
    "plt.grid(which='both')"
   ]
  },
  {
   "cell_type": "code",
   "execution_count": null,
   "metadata": {},
   "outputs": [],
   "source": []
  },
  {
   "cell_type": "code",
   "execution_count": null,
   "metadata": {},
   "outputs": [],
   "source": []
  },
  {
   "cell_type": "code",
   "execution_count": null,
   "metadata": {},
   "outputs": [],
   "source": []
  },
  {
   "cell_type": "code",
   "execution_count": null,
   "metadata": {},
   "outputs": [],
   "source": []
  },
  {
   "cell_type": "code",
   "execution_count": null,
   "metadata": {},
   "outputs": [],
   "source": []
  },
  {
   "cell_type": "code",
   "execution_count": null,
   "metadata": {},
   "outputs": [],
   "source": []
  }
 ],
 "metadata": {
  "kernelspec": {
   "display_name": "Python 3",
   "language": "python",
   "name": "python3"
  },
  "language_info": {
   "codemirror_mode": {
    "name": "ipython",
    "version": 3
   },
   "file_extension": ".py",
   "mimetype": "text/x-python",
   "name": "python",
   "nbconvert_exporter": "python",
   "pygments_lexer": "ipython3",
   "version": "3.7.4"
  }
 },
 "nbformat": 4,
 "nbformat_minor": 2
}
